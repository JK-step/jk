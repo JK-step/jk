{
  "nbformat": 4,
  "nbformat_minor": 0,
  "metadata": {
    "colab": {
      "name": "Untitled4.ipynb",
      "provenance": [],
      "include_colab_link": true
    },
    "kernelspec": {
      "name": "python3",
      "display_name": "Python 3"
    }
  },
  "cells": [
    {
      "cell_type": "markdown",
      "metadata": {
        "id": "view-in-github",
        "colab_type": "text"
      },
      "source": [
        "<a href=\"https://colab.research.google.com/github/JK-step/jk/blob/master/Untitled4.ipynb\" target=\"_parent\"><img src=\"https://colab.research.google.com/assets/colab-badge.svg\" alt=\"Open In Colab\"/></a>"
      ]
    },
    {
      "cell_type": "code",
      "metadata": {
        "id": "5eQGbf-GXm1e",
        "colab_type": "code",
        "colab": {
          "base_uri": "https://localhost:8080/",
          "height": 52
        },
        "outputId": "e1c50fda-4d84-4b8b-d407-7dfbc9120a5c"
      },
      "source": [
        "  import numpy as np\n",
        "  \n",
        "  x = np.array([1, 2, 3, 4, 5, 6, 7, 8, 9])\n",
        "  n = int(input(\"몇단\"))\n",
        "  \n",
        "  c = n * x\n",
        "  print(c)"
      ],
      "execution_count": 12,
      "outputs": [
        {
          "output_type": "stream",
          "text": [
            "몇단3\n",
            "[ 3  6  9 12 15 18 21 24 27]\n"
          ],
          "name": "stdout"
        }
      ]
    }
  ]
}